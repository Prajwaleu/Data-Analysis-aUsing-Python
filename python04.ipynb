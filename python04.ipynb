{
 "cells": [
  {
   "cell_type": "code",
   "execution_count": null,
   "id": "6b572368",
   "metadata": {},
   "outputs": [],
   "source": [
    "#best fit live\n",
    "#r sed to define a best fit line\n",
    "#null hypothesis-the coin is fair\n",
    "#the coin is not fair-alternate hypo\n",
    "#0.05-p Significance value\n",
    "#null hypothesis\n",
    "#alternate hypothesis"
   ]
  }
 ],
 "metadata": {
  "kernelspec": {
   "display_name": "Python 3",
   "language": "python",
   "name": "python3"
  },
  "language_info": {
   "codemirror_mode": {
    "name": "ipython",
    "version": 3
   },
   "file_extension": ".py",
   "mimetype": "text/x-python",
   "name": "python",
   "nbconvert_exporter": "python",
   "pygments_lexer": "ipython3",
   "version": "3.8.8"
  }
 },
 "nbformat": 4,
 "nbformat_minor": 5
}
